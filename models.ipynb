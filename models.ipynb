{
 "cells": [
  {
   "cell_type": "code",
   "execution_count": 1,
   "id": "78b79bcf-dc78-4dc7-b02e-1734d30c523c",
   "metadata": {},
   "outputs": [
    {
     "name": "stderr",
     "output_type": "stream",
     "text": [
      "Using `tqdm.autonotebook.tqdm` in notebook mode. Use `tqdm.tqdm` instead to force console mode (e.g. in jupyter console)\n"
     ]
    }
   ],
   "source": [
    "import pickle\n",
    "import shutil\n",
    "from enum import StrEnum\n",
    "from pathlib import Path\n",
    "\n",
    "import matplotlib.pyplot as plt\n",
    "import numpy as np\n",
    "import pandas as pd\n",
    "import shap\n",
    "import sklearn\n",
    "import xgboost as xgb\n",
    "from ipywidgets import *\n",
    "from sklearn.model_selection import train_test_split\n",
    "from sklearn.preprocessing import MinMaxScaler, RobustScaler\n",
    "from sklearn.inspection import PartialDependenceDisplay\n",
    "\n",
    "plt.rcParams[\"figure.figsize\"] = [19, 6]\n",
    "plt.rcParams[\"figure.dpi\"] = 100"
   ]
  },
  {
   "cell_type": "code",
   "execution_count": 2,
   "id": "ff78266b-4e6b-4a75-8423-f1f7fed8a425",
   "metadata": {},
   "outputs": [],
   "source": [
    "class Models(StrEnum):\n",
    "    SVM = \"SVM\"\n",
    "    XGB = \"XGB\"\n",
    "    RF = \"RF\"\n",
    "    GB = \"GB\""
   ]
  },
  {
   "cell_type": "markdown",
   "id": "41eddc31-5d9e-404a-894a-24921a765874",
   "metadata": {},
   "source": [
    "# Train"
   ]
  },
  {
   "cell_type": "markdown",
   "id": "24479a91-41fd-4528-a201-198dac24282e",
   "metadata": {},
   "source": [
    "## Data Preparation"
   ]
  },
  {
   "cell_type": "code",
   "execution_count": 3,
   "id": "641bbe2d-3e02-4912-b86d-ad4246620730",
   "metadata": {},
   "outputs": [],
   "source": [
    "short_to_long = {\n",
    "    \"T_AVG\": \"TEMPERATURE\",\n",
    "    \"DO_AVG\": \"DISSOLVED_OXYGEN\",\n",
    "    \"PH_AVG\": \"PH\",\n",
    "    \"COND_AVG\": \"CONDUCTIVITY\",\n",
    "    \"BOD_AVG\": \"BIO_OXYGEN_DEMAND\",\n",
    "    \"N_AVG\": \"NITRATE_CONC\",\n",
    "    \"FC_AVG\": \"FECAL_COLIFORM\",\n",
    "    \"TC_AVG\": \"TOTAL_COLIFORM\",\n",
    "}\n",
    "\n",
    "long_to_short = {\n",
    "    \"TEMPERATURE\": \"T_AVG\",\n",
    "    \"DISSOLVED_OXYGEN\": \"DO_AVG\",\n",
    "    \"PH\": \"PH_AVG\",\n",
    "    \"CONDUCTIVITY\": \"COND_AVG\",\n",
    "    \"BIO_OXYGEN_DEMAND\": \"BOD_AVG\",\n",
    "    \"NITRATE_CONC\": \"N_AVG\",\n",
    "    \"FECAL_COLIFORM\": \"FC_AVG\",\n",
    "    \"TOTAL_COLIFORM\": \"TC_AVG\",\n",
    "}"
   ]
  },
  {
   "cell_type": "code",
   "execution_count": 4,
   "id": "86277e6f-22d1-464e-be11-bd0f6d0d0b0f",
   "metadata": {},
   "outputs": [],
   "source": [
    "# (River, State) -> x-axis: Features, y-axis: RMSE value for prediction of features.\n",
    "\n",
    "df: pd.core.frame.DataFrame = (\n",
    "    pd.read_csv(f\"./WQ 2012_2021.csv\")\n",
    "    .dropna()\n",
    "    .query(\"YEAR != 2021\")\n",
    "    .drop(columns=[\"CODE\", \"LOCATION\", \"YEAR\"])\n",
    "    # .bfill()\n",
    ")\n",
    "\n",
    "df = pd.concat([df.iloc[:, :2], df.iloc[:, 4::3]], axis=1)\n",
    "feature_target = df.columns[2:]\n",
    "df[feature_target] = MinMaxScaler().fit_transform(df.iloc[:, 2:])\n",
    "\n",
    "\n",
    "def get_train_data(target_name: str, grouped: bool = False):\n",
    "    def f(x):\n",
    "        x.rename(\n",
    "            columns={key: short_to_long[key] for key in x.columns.to_list()[2:]},\n",
    "            inplace=True,\n",
    "        )\n",
    "        return (\n",
    "            x.groupby([\"RIVER\", \"STATE\"]).mean()\n",
    "            if grouped\n",
    "            else x.drop(columns=[\"RIVER\", \"STATE\"])\n",
    "        )\n",
    "\n",
    "    return tuple(\n",
    "        map(\n",
    "            f,\n",
    "            train_test_split(\n",
    "                df.drop(columns=[long_to_short[target_name]]),\n",
    "                df[[\"RIVER\", \"STATE\", long_to_short[target_name]]],\n",
    "                random_state=0,\n",
    "                test_size=0.1,\n",
    "            ),\n",
    "        )\n",
    "    )"
   ]
  },
  {
   "cell_type": "markdown",
   "id": "4a8b6210-aa35-4d46-8ff2-f3ace0f5dfab",
   "metadata": {},
   "source": [
    "## Training"
   ]
  },
  {
   "cell_type": "code",
   "execution_count": 5,
   "id": "173cd2b2-7e6c-4af4-b24f-ae7482c424d6",
   "metadata": {},
   "outputs": [],
   "source": [
    "def train_model(model_type, params):\n",
    "    fn_params = {\n",
    "        k: v\n",
    "        for k, v in params.items()\n",
    "        if k not in [\"X_train\", \"y_train\", \"X_valid\", \"y_valid\"]\n",
    "    }\n",
    "    match model_type:\n",
    "        case Models.SVM:\n",
    "            reg = sklearn.svm.SVR(probabitity=True)\n",
    "            reg.fit(params[\"X_train\"], params[\"y_train\"].to_numpy().ravel())\n",
    "\n",
    "        case Models.XGB:\n",
    "            reg = xgb.XGBRegressor(\n",
    "                **fn_params,\n",
    "            )\n",
    "            reg.fit(\n",
    "                params[\"X_train\"],\n",
    "                params[\"y_train\"],\n",
    "                eval_set=[(params[\"X_valid\"], params[\"y_valid\"])],\n",
    "            )\n",
    "\n",
    "        case Models.GB:\n",
    "            reg = sklearn.ensemble.GradientBoostingRegressor(**fn_params)\n",
    "            reg.fit(params[\"X_train\"], params[\"y_train\"].to_numpy().ravel())\n",
    "\n",
    "        case Models.RF:\n",
    "            reg = sklearn.ensemble.RandomForestRegressor(**fn_params)\n",
    "            reg.fit(params[\"X_train\"], params[\"y_train\"].to_numpy().ravel())\n",
    "\n",
    "        case _:\n",
    "            raise NotImplementedError(f\"`{model_type}` model not Implemented!\")\n",
    "\n",
    "    return reg"
   ]
  },
  {
   "cell_type": "code",
   "execution_count": 6,
   "id": "f2d4de02-c02b-437f-9357-170d04826d13",
   "metadata": {},
   "outputs": [],
   "source": [
    "def target_train(model_type, target_name):\n",
    "    X_train, X_valid, y_train, y_valid = get_data(target_name)\n",
    "\n",
    "    params = {\n",
    "        Models.SVM: {\"X_train\": X_train, \"y_train\": y_train},\n",
    "        Models.XGB: {\n",
    "            \"n_estimators\": 10000,\n",
    "            \"early_stopping_rounds\": 50,\n",
    "            \"random_state\": 0,\n",
    "            \"learning_rate\": 0.01,\n",
    "            \"base_score\": np.mean(X_train),\n",
    "            \"subsample\": 0.5,\n",
    "            \"eval_metric\": \"squared_error\",\n",
    "            \"X_train\": X_train,\n",
    "            \"y_train\": y_train,\n",
    "            \"X_valid\": X_valid,\n",
    "            \"y_valid\": y_valid,\n",
    "        },\n",
    "        Models.RF: {\n",
    "            \"n_estimators\": 1000,\n",
    "            \"max_depth\": 10,\n",
    "            \"random_state\": 0,\n",
    "            \"max_samples\": 0.5,\n",
    "            \"criterion\": \"squared_error\",\n",
    "            \"X_train\": X_train,\n",
    "            \"y_train\": y_train,\n",
    "        },\n",
    "        # GridSearchCV verified\n",
    "        Models.GB: {\n",
    "            \"n_estimators\": 1000,\n",
    "            \"learning_rate\": 0.01,\n",
    "            \"max_depth\": 10,\n",
    "            \"random_state\": 0,\n",
    "            \"subsample\": 0.5,\n",
    "            \"loss\": \"squared_error\",\n",
    "            \"X_train\": X_train,\n",
    "            \"y_train\": y_train,\n",
    "        },\n",
    "    }\n",
    "\n",
    "    return train_model(model_type, params[model_type])"
   ]
  },
  {
   "cell_type": "code",
   "execution_count": 7,
   "id": "9b242edd-bb55-485e-abfe-4132df141aeb",
   "metadata": {},
   "outputs": [],
   "source": [
    "def target_wise_train_model(model_type, target_names, cache=True):\n",
    "    target_wise_models = {}\n",
    "\n",
    "    if not cache:\n",
    "        shutil.rmtree(f\"./model/{model_type}/\", ignore_errors=True)\n",
    "\n",
    "    if not Path(f\"./model/{model_type}/\").exists():\n",
    "        os.mkdir(f\"./model/{model_type}/\")\n",
    "\n",
    "    write_to_disk = False\n",
    "\n",
    "    if cache and len(paths := list(Path().glob(f\"model/{model_type}/*.pkl\"))) == len(\n",
    "        long_to_short.keys()\n",
    "    ):\n",
    "        for path in paths:\n",
    "            with open(path, \"rb\") as file:\n",
    "                target_wise_models[path.name.split(\".\")[0]] = pickle.load(file)\n",
    "        return target_wise_models\n",
    "    else:\n",
    "        write_to_disk = True\n",
    "\n",
    "    # Display Progress #\n",
    "    prog = widgets.IntProgress(\n",
    "        value=0, min=0, max=len(list(long_to_short.keys())) - 1, step=1\n",
    "    )\n",
    "    prog_text = widgets.HTML(\n",
    "        value=f\"Training model for <b>{list(long_to_short.keys())[prog.value-1]}</b>\"\n",
    "    )\n",
    "    display(widgets.VBox([prog, prog_text]))\n",
    "    #! Display Progress !#\n",
    "\n",
    "    for target, target_name in enumerate(target_names):\n",
    "        prog.value = target\n",
    "        prog_text.value = (\n",
    "            f\"Training model for <b>{list(long_to_short.keys())[target]}</b>\".replace(\n",
    "                \"_\", \" \"\n",
    "            )\n",
    "        )\n",
    "\n",
    "        target_wise_models[target_name] = target_train(model_type, target_name)\n",
    "\n",
    "        if write_to_disk:\n",
    "            with open(f\"./model/{model_type}/{target_name}.pkl\", \"wb\") as file:\n",
    "                pickle.dump(\n",
    "                    target_wise_models[target_name],\n",
    "                    file,\n",
    "                    protocol=pickle.HIGHEST_PROTOCOL,\n",
    "                )\n",
    "\n",
    "    return target_wise_models"
   ]
  },
  {
   "cell_type": "markdown",
   "id": "e6bfa5c8-8f13-4674-936c-e40799bf4fa6",
   "metadata": {},
   "source": [
    "# Inference"
   ]
  },
  {
   "cell_type": "code",
   "execution_count": 8,
   "id": "e9ef13cb-4a53-4222-a0da-0e418d8d7ed5",
   "metadata": {},
   "outputs": [],
   "source": [
    "df_test_1: pd.core.frame.DataFrame = (\n",
    "    pd.read_csv(f\"./WQ 2012_2021.csv\")\n",
    "    .dropna()\n",
    "    .query(\"YEAR == 2021\")\n",
    "    .drop(columns=[\"LOCATION\", \"YEAR\"])\n",
    "    .bfill()\n",
    "    .groupby([\"RIVER\", \"STATE\", \"CODE\"])\n",
    "    .mean()\n",
    ")\n",
    "river_state_station = df_test_1.index.to_list()\n",
    "index = df_test_1.index\n",
    "df_test_1 = df_test_1.iloc[:, 2::3]\n",
    "df_test_1.rename(\n",
    "    columns={key: short_to_long[key] for key in df_test_1.columns.to_list()},\n",
    "    inplace=True,\n",
    ")\n",
    "df_test_1[list(long_to_short.keys())] = MinMaxScaler().fit_transform(df_test_1)\n",
    "\n",
    "df_test: pd.core.frame.DataFrame = (\n",
    "    pd.read_csv(f\"./WQ 2012_2021.csv\")\n",
    "    .dropna()\n",
    "    .query(\"YEAR == 2021\")\n",
    "    .drop(columns=[\"CODE\", \"LOCATION\", \"YEAR\"])\n",
    "    .bfill()\n",
    "    .groupby([\"RIVER\", \"STATE\"])\n",
    "    .mean()\n",
    ")\n",
    "river_state = df_test.index.to_list()\n",
    "index = df_test.index\n",
    "df_test = df_test.iloc[:, 2::3]\n",
    "df_test.rename(\n",
    "    columns={key: short_to_long[key] for key in df_test.columns.to_list()},\n",
    "    inplace=True,\n",
    ")\n",
    "feature_target = df_test.columns\n",
    "df_test[feature_target] = MinMaxScaler().fit_transform(df_test)\n",
    "\n",
    "dict_river_state_station = {}\n",
    "for r, s, c in river_state_station:\n",
    "    if r in dict_river_state_station:\n",
    "        if s in dict_river_state_station[r]:\n",
    "            dict_river_state_station[r][s].append(c)\n",
    "            continue\n",
    "        dict_river_state_station[r][s] = [c]\n",
    "        continue\n",
    "    dict_river_state_station[r] = {s: [c]}\n",
    "\n",
    "dict_river_state = {}\n",
    "for r, s, _ in river_state_station:\n",
    "    if r in dict_river_state:\n",
    "        dict_river_state[r].add(s)\n",
    "        continue\n",
    "    dict_river_state[r] = {s}"
   ]
  },
  {
   "cell_type": "code",
   "execution_count": 9,
   "id": "33b49227-c44f-4f2f-bc79-5f2b6fab72ed",
   "metadata": {},
   "outputs": [],
   "source": [
    "target_d_1 = widgets.Dropdown(options=[], value=None, description=\"Target: \")\n",
    "river_d_1 = widgets.Dropdown(\n",
    "    options=list(dict_river_state.keys()),\n",
    "    value=None,\n",
    "    description=\"River:\",\n",
    ")\n",
    "state_d_1 = widgets.Dropdown(\n",
    "    description=\"State:\",\n",
    ")\n",
    "station_d_1 = widgets.Dropdown(\n",
    "    description=\"Station:\",\n",
    ")\n",
    "\n",
    "\n",
    "target_d = widgets.Dropdown(options=[], value=None, description=\"Target: \")\n",
    "model_d = widgets.Dropdown(options=Models, value=None, description=\"Model: \")\n",
    "river_d = widgets.Dropdown(\n",
    "    options=list(dict_river_state.keys()),\n",
    "    value=None,\n",
    "    description=\"River:\",\n",
    ")\n",
    "state_d = widgets.Dropdown(\n",
    "    description=\"State:\",\n",
    ")"
   ]
  },
  {
   "cell_type": "code",
   "execution_count": 10,
   "id": "019c0435-4f20-4dea-bf68-cea58afcc56e",
   "metadata": {},
   "outputs": [],
   "source": [
    "def calculate_error_1(targets_model, river, state, station):\n",
    "    err = []\n",
    "    trgt = []\n",
    "    for target_name in long_to_short.keys():\n",
    "        model = targets_model[target_name]\n",
    "\n",
    "        X = (\n",
    "            df_test_1.drop(columns=[target_name])\n",
    "            .loc[river, state, station]\n",
    "            .to_frame()\n",
    "            .transpose()\n",
    "        )\n",
    "        y = df_test_1[target_name].loc[river, state, station]\n",
    "\n",
    "        o = model.predict(X)\n",
    "        rse = np.linalg.norm(o - y)\n",
    "        err.append(rse)\n",
    "        trgt.append(target_name)\n",
    "    return trgt, err\n",
    "\n",
    "\n",
    "def calculate_error(targets_model, river, state):\n",
    "    err = []\n",
    "    trgt = []\n",
    "    for target_name in long_to_short.keys():\n",
    "        model = targets_model[target_name]\n",
    "\n",
    "        X = df_test.drop(columns=[target_name]).loc[river, state].to_frame().transpose()\n",
    "        y = df_test[target_name].loc[river, state]\n",
    "\n",
    "        o = model.predict(X)\n",
    "        rse = np.linalg.norm(o - y)\n",
    "        err.append(rse)\n",
    "        trgt.append(target_name)\n",
    "    return trgt, err"
   ]
  },
  {
   "cell_type": "markdown",
   "id": "d69aafe0-61b6-4c19-b2ee-caadfffd2631",
   "metadata": {},
   "source": [
    "### Error Plot"
   ]
  },
  {
   "cell_type": "code",
   "execution_count": 11,
   "id": "e63535df-69e8-4cad-a97b-4d336339eb1b",
   "metadata": {},
   "outputs": [],
   "source": [
    "def plot_error_1(targets_model, river, state, station):\n",
    "    if river == None or state == None:\n",
    "        return None\n",
    "\n",
    "    plt.close()\n",
    "\n",
    "    X, y = calculate_error_1(targets_model, river, state, station)\n",
    "    plt.bar(X, y)\n",
    "    plt.scatter(X, y)\n",
    "    plt.title(f\"{river}\\n{state}: {station}\")\n",
    "    plt.xlabel(\"Target perdicted\")\n",
    "    plt.ylabel(\"RMSE\")\n",
    "\n",
    "    plt.show()\n",
    "\n",
    "\n",
    "def plot_error(targets_model, river, state):\n",
    "    if river == None or state == None:\n",
    "        return None\n",
    "\n",
    "    plt.close()\n",
    "\n",
    "    X, y = calculate_error(targets_model, river, state)\n",
    "    plt.bar(X, y)\n",
    "    plt.scatter(X, y)\n",
    "    plt.title(f\"{river}\\n{state}\")\n",
    "\n",
    "    plt.show()"
   ]
  },
  {
   "cell_type": "markdown",
   "id": "b030d496-2c87-4fd7-82df-45864bd65932",
   "metadata": {},
   "source": [
    "### Explainer PLot"
   ]
  },
  {
   "cell_type": "code",
   "execution_count": 16,
   "id": "868ba946-c6b5-48ac-a17f-754dcc3a6436",
   "metadata": {},
   "outputs": [],
   "source": [
    "def explainer_plot(target_name, targets_model):\n",
    "    if not (path:=Path(f\"images/{model_d.value}/shap\")).exists():\n",
    "        path.mkdir(parents=True, exist_ok=True)\n",
    "    if not (path:=Path(f\"images/{model_d.value}/pdp/{target_name}\")).exists():\n",
    "        path.mkdir(parents=True, exist_ok=True)\n",
    "    \n",
    "    if target_name == None or targets_model == None:\n",
    "        return None\n",
    "\n",
    "    plt.close()\n",
    "    model = targets_model[target_name]\n",
    "    X_train, _, y_train, _ = get_train_data(target_name)\n",
    "\n",
    "    explainer = shap.Explainer(lambda x: model.predict(x), X_train)\n",
    "\n",
    "    if not Path(f\"./shap_values/{model_d.value}\").exists():\n",
    "        os.mkdir(f\"./shap_values/{model_d.value}\")\n",
    "\n",
    "    path = Path(f\"./shap_values/{model_d.value}/{target_name}.pkl\")\n",
    "    if not path.exists():\n",
    "        shap_values = explainer(X_train)\n",
    "        with open(path, \"wb\") as file:\n",
    "            pickle.dump(shap_values, file, protocol=pickle.HIGHEST_PROTOCOL)\n",
    "    else:\n",
    "        with open(path, \"rb\") as file:\n",
    "            shap_values = pickle.load(file)\n",
    "\n",
    "    plt.title(f\"{target_name}\\n{model_d.value}\")\n",
    "\n",
    "    shap.summary_plot(\n",
    "        shap_values,\n",
    "        X_train,\n",
    "        alpha=0.5,\n",
    "        title=target_name,\n",
    "        show=False\n",
    "    )\n",
    "    plt.savefig(f\"images/{model_d.value}/shap/summary_{target_name}\")\n",
    "    plt.show()\n",
    "    \n",
    "    shap.plots.bar(shap_values, show=False)\n",
    "    plt.savefig(f\"images/{model_d.value}/shap/bar_{target_name}\")\n",
    "    plt.show()\n",
    "\n",
    "    for i in range(7):\n",
    "        PartialDependenceDisplay.from_estimator(model, X_train, [i], n_cols=2)\n",
    "        plt.title(f\"{target_name}\")\n",
    "        plt.savefig(f\"images/{model_d.value}/pdp/{target_name}/{''.join(X_train.columns[i])}\")\n",
    "    \n",
    "    # PartialDependenceDisplay.from_estimator(model, X_train, [1, 2], n_cols=2)\n",
    "    # plt.savefig(f\"images/pdp/{target_name}/{''.join(X_train.columns[1:3])}\")\n",
    "    \n",
    "    # PartialDependenceDisplay.from_estimator(model, X_train, [2, 3], n_cols=2)\n",
    "    # plt.savefig(f\"images/pdp/{target_name}/{''.join(X_train.columns[2:4])}\")\n",
    "    \n",
    "    # PartialDependenceDisplay.from_estimator(model, X_train, [3, 4], n_cols=2)\n",
    "    # plt.savefig(f\"images/pdp/{target_name}/{''.join(X_train.columns[3:5])}\")\n",
    "    \n",
    "    # PartialDependenceDisplay.from_estimator(model, X_train, [5, 6], n_cols=2)\n",
    "    # plt.savefig(f\"images/pdp/{target_name}/{''.join(X_train.columns[4:6])}\")\n",
    "    # shap.partial_dependence_plot(target_name, targets_model[target_name], X_train, model_expected_value=True, feature_expected_value=True, show=False, ice=False)"
   ]
  },
  {
   "cell_type": "code",
   "execution_count": 13,
   "id": "285c1d66-5961-4d75-9e44-281c06bc3618",
   "metadata": {},
   "outputs": [
    {
     "data": {
      "application/vnd.jupyter.widget-view+json": {
       "model_id": "dd19c38d5a0a4a89aca816d4e28ea178",
       "version_major": 2,
       "version_minor": 0
      },
      "text/plain": [
       "Dropdown(description='Model: ', options=(<Models.SVM: 'SVM'>, <Models.XGB: 'XGB'>, <Models.RF: 'RF'>, <Models.…"
      ]
     },
     "metadata": {},
     "output_type": "display_data"
    },
    {
     "data": {
      "application/vnd.jupyter.widget-view+json": {
       "model_id": "acb9246830ad448b8a2a480abc10177e",
       "version_major": 2,
       "version_minor": 0
      },
      "text/plain": [
       "Tab(children=(VBox(children=(Dropdown(description='Target: ', options=(), value=None), Output())), VBox(childr…"
      ]
     },
     "execution_count": 13,
     "metadata": {},
     "output_type": "execute_result"
    }
   ],
   "source": [
    "targets_model = {}\n",
    "\n",
    "\n",
    "def update_model(change):\n",
    "    global targets_model\n",
    "    targets = list(long_to_short.keys())\n",
    "    targets_model = target_wise_train_model(\n",
    "        model_type=model_d.value, target_names=targets\n",
    "    )\n",
    "    target_d_1.options = targets\n",
    "    target_d_1.value = targets[0]\n",
    "\n",
    "\n",
    "def update_state_1(change):\n",
    "    state_d_1.options = list(dict_river_state_station[river_d_1.value].keys())\n",
    "    state_d_1.value = list(dict_river_state_station[river_d_1.value].keys())[0]\n",
    "\n",
    "\n",
    "def update_station_1(change):\n",
    "    station_d_1.options = dict_river_state_station[river_d_1.value][state_d_1.value]\n",
    "    station_d_1.value = dict_river_state_station[river_d_1.value][state_d_1.value][0]\n",
    "\n",
    "\n",
    "def update_state(change):\n",
    "    state_d.options = dict_river_state[river_d.value]\n",
    "    state_d.value = list(dict_river_state[river_d.value])[0]\n",
    "\n",
    "\n",
    "model_d.observe(update_model, \"value\")\n",
    "river_d.observe(update_state, \"value\")\n",
    "river_d_1.observe(update_state_1, \"value\")\n",
    "state_d_1.observe(update_station_1, \"value\")\n",
    "\n",
    "display(model_d)\n",
    "\n",
    "graph_e_1 = widgets.interactive_output(\n",
    "    lambda target_name: explainer_plot(\n",
    "        target_name=target_name, targets_model=targets_model\n",
    "    ),\n",
    "    {\"target_name\": target_d_1},\n",
    ")\n",
    "\n",
    "\n",
    "graph_p = widgets.interactive_output(\n",
    "    lambda river, state: plot_error(\n",
    "        river=river, state=state, targets_model=targets_model\n",
    "    ),\n",
    "    {\"river\": river_d, \"state\": state_d},\n",
    ")\n",
    "\n",
    "graph_p_1 = widgets.interactive_output(\n",
    "    lambda river, state, station: plot_error_1(\n",
    "        river=river, state=state, station=station, targets_model=targets_model\n",
    "    ),\n",
    "    {\"river\": river_d_1, \"state\": state_d_1, \"station\": station_d_1},\n",
    ")\n",
    "\n",
    "\n",
    "explain = widgets.VBox([target_d_1, graph_e_1])\n",
    "predict_station = widgets.VBox([river_d_1, state_d_1, station_d_1, graph_p_1])\n",
    "predict_state = widgets.VBox([river_d, state_d, graph_p])\n",
    "\n",
    "tab = widgets.Tab()\n",
    "tab.children = [explain, predict_state, predict_station]\n",
    "tab.titles = [\"Explanation\", \"Prediction (State)\", \"Prediction (Station)\"]\n",
    "tab"
   ]
  },
  {
   "cell_type": "markdown",
   "id": "f0e26315-ef26-48aa-a17a-fba200982dd6",
   "metadata": {},
   "source": [
    "## Todo\n",
    "\n",
    "1. Related work.\n",
    "2. Compare your work with related work.\n",
    "3. Grpahs and Tables.\n",
    "4. Inference derived from Graphs and Tables.\n",
    "\n",
    "Compare models, by their total rmse."
   ]
  },
  {
   "cell_type": "markdown",
   "id": "77be8152-aa10-4a68-8718-d32d1699521d",
   "metadata": {},
   "source": [
    "### Papers not accesible\n",
    "\n",
    "1. https://www.nature.com/articles/s41598-022-20604-x\n",
    "2. https://www.sciencedirect.com/science/article/abs/pii/S0341816223000887\n",
    "3. https://link.springer.com/article/10.1007/s11356-023-27481-5\n",
    "4. https://link.springer.com/chapter/10.1007/978-981-19-7528-8_19"
   ]
  }
 ],
 "metadata": {
  "kernelspec": {
   "display_name": "Python 3 (ipykernel)",
   "language": "python",
   "name": "python3"
  },
  "language_info": {
   "codemirror_mode": {
    "name": "ipython",
    "version": 3
   },
   "file_extension": ".py",
   "mimetype": "text/x-python",
   "name": "python",
   "nbconvert_exporter": "python",
   "pygments_lexer": "ipython3",
   "version": "3.11.4"
  },
  "widgets": {
   "application/vnd.jupyter.widget-state+json": {
    "state": {
     "017038326ca44b5ca8825abcd8d3702f": {
      "model_module": "@jupyter-widgets/output",
      "model_module_version": "1.0.0",
      "model_name": "OutputModel",
      "state": {
       "layout": "IPY_MODEL_58a67251dac04486afd9db03000da51b",
       "msg_id": "874b68a5-82e6-45bc-912d-6b094ea14fb8",
       "outputs": [
        {
         "name": "stderr",
         "output_type": "stream",
         "text": "Exact explainer:   9%|██▏                    | 169/1807 [00:24<04:03,  6.71it/s]"
        }
       ]
      }
     },
     "054fe245399a44d992d80252c7a8d433": {
      "model_module": "@jupyter-widgets/controls",
      "model_module_version": "2.0.0",
      "model_name": "HTMLModel",
      "state": {
       "layout": "IPY_MODEL_34967249685a4ddbad44e968dd8b7449",
       "style": "IPY_MODEL_77c7cc484ba747b7b548cde761a599ef",
       "value": "Training model for <b>TEMPERATURE</b>"
      }
     },
     "0cb6e6f0e16d4503b8fcf0788f1e9158": {
      "model_module": "@jupyter-widgets/base",
      "model_module_version": "2.0.0",
      "model_name": "LayoutModel",
      "state": {}
     },
     "1377da5b08104b1fa292a8796e5aec39": {
      "model_module": "@jupyter-widgets/base",
      "model_module_version": "2.0.0",
      "model_name": "LayoutModel",
      "state": {}
     },
     "147b416ba06043afab32fa2adf89734d": {
      "model_module": "@jupyter-widgets/controls",
      "model_module_version": "2.0.0",
      "model_name": "VBoxModel",
      "state": {
       "children": [
        "IPY_MODEL_6f7cd27479544b41a087e69579950d8c",
        "IPY_MODEL_261e9d27a5894e10bd28fb2c84e01ff4",
        "IPY_MODEL_614100c9c9f0465a928f61ad990713e4",
        "IPY_MODEL_da50435aa936466796e0897574a39bdb"
       ],
       "layout": "IPY_MODEL_f524b86f7a6642d782b0a3b1cacd592b"
      }
     },
     "1854d10d5e5348fc856f239413da76c4": {
      "model_module": "@jupyter-widgets/base",
      "model_module_version": "2.0.0",
      "model_name": "LayoutModel",
      "state": {}
     },
     "261e9d27a5894e10bd28fb2c84e01ff4": {
      "model_module": "@jupyter-widgets/controls",
      "model_module_version": "2.0.0",
      "model_name": "DropdownModel",
      "state": {
       "description": "State:",
       "index": null,
       "layout": "IPY_MODEL_ced40750cf024ca6ac77cff75f790ccd",
       "style": "IPY_MODEL_e4cc0903754a447d92b321c5c74f5f95"
      }
     },
     "28622feea0374065ac40c9788faa9101": {
      "model_module": "@jupyter-widgets/controls",
      "model_module_version": "2.0.0",
      "model_name": "IntProgressModel",
      "state": {
       "layout": "IPY_MODEL_a99346c389f044a1a32d0cca2bf2635a",
       "max": 7,
       "style": "IPY_MODEL_3a52fb07d1b64cc5b599848272f714dc"
      }
     },
     "321e1df0b746490aae90ff8d16dfa77c": {
      "model_module": "@jupyter-widgets/base",
      "model_module_version": "2.0.0",
      "model_name": "LayoutModel",
      "state": {}
     },
     "34967249685a4ddbad44e968dd8b7449": {
      "model_module": "@jupyter-widgets/base",
      "model_module_version": "2.0.0",
      "model_name": "LayoutModel",
      "state": {}
     },
     "3a52fb07d1b64cc5b599848272f714dc": {
      "model_module": "@jupyter-widgets/controls",
      "model_module_version": "2.0.0",
      "model_name": "ProgressStyleModel",
      "state": {
       "description_width": ""
      }
     },
     "3a5679816bf441d0b91e7303a2ea0341": {
      "model_module": "@jupyter-widgets/controls",
      "model_module_version": "2.0.0",
      "model_name": "DropdownModel",
      "state": {
       "description": "State:",
       "index": null,
       "layout": "IPY_MODEL_c61833ef1c6548a1bd2624da6118ffc3",
       "style": "IPY_MODEL_a72a5b06fc4e4d1fbd2e22313657f4d5"
      }
     },
     "3c2499d2aa7042f089831c836934355f": {
      "model_module": "@jupyter-widgets/controls",
      "model_module_version": "2.0.0",
      "model_name": "DescriptionStyleModel",
      "state": {
       "description_width": ""
      }
     },
     "3c69d38171734f9e8b51536aea145b49": {
      "model_module": "@jupyter-widgets/controls",
      "model_module_version": "2.0.0",
      "model_name": "VBoxModel",
      "state": {
       "children": [
        "IPY_MODEL_87fa81ba870b40c683d089074bece583",
        "IPY_MODEL_8072256752e7458a8fed21292efd36df"
       ],
       "layout": "IPY_MODEL_f05259c5dc42407d8191f19c518e9fe8"
      }
     },
     "3cadfda0cf424336b559d5d25995464f": {
      "model_module": "@jupyter-widgets/controls",
      "model_module_version": "2.0.0",
      "model_name": "DescriptionStyleModel",
      "state": {
       "description_width": ""
      }
     },
     "40e6746e8d93409b8025d3e26b5b13f8": {
      "model_module": "@jupyter-widgets/controls",
      "model_module_version": "2.0.0",
      "model_name": "VBoxModel",
      "state": {
       "children": [
        "IPY_MODEL_57273b647cf0418c951eaf4a41b1cfa5",
        "IPY_MODEL_3a5679816bf441d0b91e7303a2ea0341",
        "IPY_MODEL_cd062fe52d72446abf35aaeecc9810c5"
       ],
       "layout": "IPY_MODEL_f7adb5aa35b3469fb57b7e1c60ad2c61"
      }
     },
     "4b05fcc01ae54fbb89f551ac959c8865": {
      "model_module": "@jupyter-widgets/controls",
      "model_module_version": "2.0.0",
      "model_name": "DescriptionStyleModel",
      "state": {
       "description_width": ""
      }
     },
     "57273b647cf0418c951eaf4a41b1cfa5": {
      "model_module": "@jupyter-widgets/controls",
      "model_module_version": "2.0.0",
      "model_name": "DropdownModel",
      "state": {
       "_options_labels": [
        "BEAS",
        "BRAHMAPUTRA",
        "CAUVERY",
        "GANGA",
        "GODAVARI",
        "KRISHNA",
        "MAHANADI",
        "SATLUJ",
        "YAMUNA"
       ],
       "description": "River:",
       "index": null,
       "layout": "IPY_MODEL_7795583e131e459a857125d93fa9435f",
       "style": "IPY_MODEL_3cadfda0cf424336b559d5d25995464f"
      }
     },
     "58a67251dac04486afd9db03000da51b": {
      "model_module": "@jupyter-widgets/base",
      "model_module_version": "2.0.0",
      "model_name": "LayoutModel",
      "state": {}
     },
     "59536cc9387b4f01a1e6afab865af603": {
      "model_module": "@jupyter-widgets/controls",
      "model_module_version": "2.0.0",
      "model_name": "VBoxModel",
      "state": {
       "children": [
        "IPY_MODEL_c22b9663af864ab7a1c733c0c07d79ba",
        "IPY_MODEL_054fe245399a44d992d80252c7a8d433"
       ],
       "layout": "IPY_MODEL_fb2104ef4e184ec9823b1f3b7d4a799a"
      }
     },
     "5ace48fd965f42f2a46d24df31ff2504": {
      "model_module": "@jupyter-widgets/base",
      "model_module_version": "2.0.0",
      "model_name": "LayoutModel",
      "state": {}
     },
     "614100c9c9f0465a928f61ad990713e4": {
      "model_module": "@jupyter-widgets/controls",
      "model_module_version": "2.0.0",
      "model_name": "DropdownModel",
      "state": {
       "description": "Station:",
       "index": null,
       "layout": "IPY_MODEL_642296f6d1004c0bbb5fe741e085d67e",
       "style": "IPY_MODEL_ec3029a53e8b428593cabb42e8f9a73a"
      }
     },
     "642296f6d1004c0bbb5fe741e085d67e": {
      "model_module": "@jupyter-widgets/base",
      "model_module_version": "2.0.0",
      "model_name": "LayoutModel",
      "state": {}
     },
     "670a792e92b642c9b1c42fa9aab70bf8": {
      "model_module": "@jupyter-widgets/base",
      "model_module_version": "2.0.0",
      "model_name": "LayoutModel",
      "state": {}
     },
     "6f7cd27479544b41a087e69579950d8c": {
      "model_module": "@jupyter-widgets/controls",
      "model_module_version": "2.0.0",
      "model_name": "DropdownModel",
      "state": {
       "_options_labels": [
        "BEAS",
        "BRAHMAPUTRA",
        "CAUVERY",
        "GANGA",
        "GODAVARI",
        "KRISHNA",
        "MAHANADI",
        "SATLUJ",
        "YAMUNA"
       ],
       "description": "River:",
       "index": null,
       "layout": "IPY_MODEL_1377da5b08104b1fa292a8796e5aec39",
       "style": "IPY_MODEL_bbca5f9233e845fb9fcdcd99640340c1"
      }
     },
     "71f978ca8fbd41ca888492c8c034af15": {
      "model_module": "@jupyter-widgets/base",
      "model_module_version": "2.0.0",
      "model_name": "LayoutModel",
      "state": {}
     },
     "75b7d086bfaf458ab68050e1b37db63b": {
      "model_module": "@jupyter-widgets/base",
      "model_module_version": "2.0.0",
      "model_name": "LayoutModel",
      "state": {}
     },
     "7795583e131e459a857125d93fa9435f": {
      "model_module": "@jupyter-widgets/base",
      "model_module_version": "2.0.0",
      "model_name": "LayoutModel",
      "state": {}
     },
     "77c7cc484ba747b7b548cde761a599ef": {
      "model_module": "@jupyter-widgets/controls",
      "model_module_version": "2.0.0",
      "model_name": "HTMLStyleModel",
      "state": {
       "description_width": "",
       "font_size": null,
       "text_color": null
      }
     },
     "7b54a709a44d460da2347662c58b96c4": {
      "model_module": "@jupyter-widgets/controls",
      "model_module_version": "2.0.0",
      "model_name": "HTMLStyleModel",
      "state": {
       "description_width": "",
       "font_size": null,
       "text_color": null
      }
     },
     "7b8ae9ac39e64fdf8e5502f7f5419575": {
      "model_module": "@jupyter-widgets/base",
      "model_module_version": "2.0.0",
      "model_name": "LayoutModel",
      "state": {}
     },
     "80026cc497a5473f906ffdd990b4d7ae": {
      "model_module": "@jupyter-widgets/controls",
      "model_module_version": "2.0.0",
      "model_name": "HTMLModel",
      "state": {
       "layout": "IPY_MODEL_c5871283614e468fbbe77fce48740e47",
       "style": "IPY_MODEL_7b54a709a44d460da2347662c58b96c4",
       "value": "Training model for <b>TEMPERATURE</b>"
      }
     },
     "8072256752e7458a8fed21292efd36df": {
      "model_module": "@jupyter-widgets/controls",
      "model_module_version": "2.0.0",
      "model_name": "HTMLModel",
      "state": {
       "layout": "IPY_MODEL_5ace48fd965f42f2a46d24df31ff2504",
       "style": "IPY_MODEL_eaa7ce28c47740699709eeceaebc2fbe",
       "value": "Training model for <b>TEMPERATURE</b>"
      }
     },
     "87fa81ba870b40c683d089074bece583": {
      "model_module": "@jupyter-widgets/controls",
      "model_module_version": "2.0.0",
      "model_name": "IntProgressModel",
      "state": {
       "layout": "IPY_MODEL_670a792e92b642c9b1c42fa9aab70bf8",
       "max": 7,
       "style": "IPY_MODEL_e5afb5adda404821aaedc49d324f1e67"
      }
     },
     "8d6dbc5a41984766a53bd5498f20102b": {
      "model_module": "@jupyter-widgets/controls",
      "model_module_version": "2.0.0",
      "model_name": "DropdownModel",
      "state": {
       "_options_labels": [
        "TEMPERATURE",
        "DISSOLVED_OXYGEN",
        "PH",
        "CONDUCTIVITY",
        "BIO_OXYGEN_DEMAND",
        "NITRATE_CONC",
        "FECAL_COLIFORM",
        "TOTAL_COLIFORM"
       ],
       "description": "Target: ",
       "index": 1,
       "layout": "IPY_MODEL_920e8ca74dfb4c0480dafb5dcf019355",
       "style": "IPY_MODEL_da61cdf8a0a24498a41480658834e7cf"
      }
     },
     "920e8ca74dfb4c0480dafb5dcf019355": {
      "model_module": "@jupyter-widgets/base",
      "model_module_version": "2.0.0",
      "model_name": "LayoutModel",
      "state": {}
     },
     "9ffc571c03624bc7a17ece47e8a548ea": {
      "model_module": "@jupyter-widgets/controls",
      "model_module_version": "2.0.0",
      "model_name": "ProgressStyleModel",
      "state": {
       "description_width": ""
      }
     },
     "a45e0f9cea78462bb1eabac4d658fa9d": {
      "model_module": "@jupyter-widgets/controls",
      "model_module_version": "2.0.0",
      "model_name": "HTMLModel",
      "state": {
       "layout": "IPY_MODEL_0cb6e6f0e16d4503b8fcf0788f1e9158",
       "style": "IPY_MODEL_e2f47b927c0d4901894bab4899cb0236",
       "value": "Training model for <b>TEMPERATURE</b>"
      }
     },
     "a68b599736a64e5ba1b853c5f566209f": {
      "model_module": "@jupyter-widgets/controls",
      "model_module_version": "2.0.0",
      "model_name": "VBoxModel",
      "state": {
       "children": [
        "IPY_MODEL_e958832412d74ed5b41fad490cb0429a",
        "IPY_MODEL_80026cc497a5473f906ffdd990b4d7ae"
       ],
       "layout": "IPY_MODEL_fbb700436fef42288953c342c1a74549"
      }
     },
     "a72a5b06fc4e4d1fbd2e22313657f4d5": {
      "model_module": "@jupyter-widgets/controls",
      "model_module_version": "2.0.0",
      "model_name": "DescriptionStyleModel",
      "state": {
       "description_width": ""
      }
     },
     "a99346c389f044a1a32d0cca2bf2635a": {
      "model_module": "@jupyter-widgets/base",
      "model_module_version": "2.0.0",
      "model_name": "LayoutModel",
      "state": {}
     },
     "acb9246830ad448b8a2a480abc10177e": {
      "model_module": "@jupyter-widgets/controls",
      "model_module_version": "2.0.0",
      "model_name": "TabModel",
      "state": {
       "children": [
        "IPY_MODEL_eafe297caf1c4e9ba2154a75129ad256",
        "IPY_MODEL_40e6746e8d93409b8025d3e26b5b13f8",
        "IPY_MODEL_147b416ba06043afab32fa2adf89734d"
       ],
       "layout": "IPY_MODEL_71f978ca8fbd41ca888492c8c034af15",
       "selected_index": 0,
       "titles": [
        "Explanation",
        "Prediction (State)",
        "Prediction (Station)"
       ]
      }
     },
     "b5cace1cdce3446ca4d53d26e4317305": {
      "model_module": "@jupyter-widgets/base",
      "model_module_version": "2.0.0",
      "model_name": "LayoutModel",
      "state": {}
     },
     "bbca5f9233e845fb9fcdcd99640340c1": {
      "model_module": "@jupyter-widgets/controls",
      "model_module_version": "2.0.0",
      "model_name": "DescriptionStyleModel",
      "state": {
       "description_width": ""
      }
     },
     "c22b9663af864ab7a1c733c0c07d79ba": {
      "model_module": "@jupyter-widgets/controls",
      "model_module_version": "2.0.0",
      "model_name": "IntProgressModel",
      "state": {
       "layout": "IPY_MODEL_fc9e498477e04b61a2b5e50b34fc33b7",
       "max": 7,
       "style": "IPY_MODEL_9ffc571c03624bc7a17ece47e8a548ea"
      }
     },
     "c25113e436164fe0b771538f9f06bff1": {
      "model_module": "@jupyter-widgets/controls",
      "model_module_version": "2.0.0",
      "model_name": "DropdownModel",
      "state": {
       "description": "Target: ",
       "index": null,
       "layout": "IPY_MODEL_b5cace1cdce3446ca4d53d26e4317305",
       "style": "IPY_MODEL_4b05fcc01ae54fbb89f551ac959c8865"
      }
     },
     "c5871283614e468fbbe77fce48740e47": {
      "model_module": "@jupyter-widgets/base",
      "model_module_version": "2.0.0",
      "model_name": "LayoutModel",
      "state": {}
     },
     "c61833ef1c6548a1bd2624da6118ffc3": {
      "model_module": "@jupyter-widgets/base",
      "model_module_version": "2.0.0",
      "model_name": "LayoutModel",
      "state": {}
     },
     "cd062fe52d72446abf35aaeecc9810c5": {
      "model_module": "@jupyter-widgets/output",
      "model_module_version": "1.0.0",
      "model_name": "OutputModel",
      "state": {
       "layout": "IPY_MODEL_1854d10d5e5348fc856f239413da76c4"
      }
     },
     "ced40750cf024ca6ac77cff75f790ccd": {
      "model_module": "@jupyter-widgets/base",
      "model_module_version": "2.0.0",
      "model_name": "LayoutModel",
      "state": {}
     },
     "d4a55056c74e425fa07c7ad8e8a87b2e": {
      "model_module": "@jupyter-widgets/controls",
      "model_module_version": "2.0.0",
      "model_name": "ProgressStyleModel",
      "state": {
       "description_width": ""
      }
     },
     "da50435aa936466796e0897574a39bdb": {
      "model_module": "@jupyter-widgets/output",
      "model_module_version": "1.0.0",
      "model_name": "OutputModel",
      "state": {
       "layout": "IPY_MODEL_75b7d086bfaf458ab68050e1b37db63b"
      }
     },
     "da61cdf8a0a24498a41480658834e7cf": {
      "model_module": "@jupyter-widgets/controls",
      "model_module_version": "2.0.0",
      "model_name": "DescriptionStyleModel",
      "state": {
       "description_width": ""
      }
     },
     "dd19c38d5a0a4a89aca816d4e28ea178": {
      "model_module": "@jupyter-widgets/controls",
      "model_module_version": "2.0.0",
      "model_name": "DropdownModel",
      "state": {
       "_options_labels": [
        "SVM",
        "XGB",
        "RF",
        "GB"
       ],
       "description": "Model: ",
       "index": 3,
       "layout": "IPY_MODEL_f0e4f52b748344cbb6d849adafd03315",
       "style": "IPY_MODEL_3c2499d2aa7042f089831c836934355f"
      }
     },
     "decb1f34558d4aa3a2515cb42043799d": {
      "model_module": "@jupyter-widgets/base",
      "model_module_version": "2.0.0",
      "model_name": "LayoutModel",
      "state": {}
     },
     "e2f47b927c0d4901894bab4899cb0236": {
      "model_module": "@jupyter-widgets/controls",
      "model_module_version": "2.0.0",
      "model_name": "HTMLStyleModel",
      "state": {
       "description_width": "",
       "font_size": null,
       "text_color": null
      }
     },
     "e4cc0903754a447d92b321c5c74f5f95": {
      "model_module": "@jupyter-widgets/controls",
      "model_module_version": "2.0.0",
      "model_name": "DescriptionStyleModel",
      "state": {
       "description_width": ""
      }
     },
     "e5afb5adda404821aaedc49d324f1e67": {
      "model_module": "@jupyter-widgets/controls",
      "model_module_version": "2.0.0",
      "model_name": "ProgressStyleModel",
      "state": {
       "description_width": ""
      }
     },
     "e958832412d74ed5b41fad490cb0429a": {
      "model_module": "@jupyter-widgets/controls",
      "model_module_version": "2.0.0",
      "model_name": "IntProgressModel",
      "state": {
       "layout": "IPY_MODEL_decb1f34558d4aa3a2515cb42043799d",
       "max": 7,
       "style": "IPY_MODEL_d4a55056c74e425fa07c7ad8e8a87b2e"
      }
     },
     "e9924edc2d9a463da113ea3c3a97047c": {
      "model_module": "@jupyter-widgets/controls",
      "model_module_version": "2.0.0",
      "model_name": "VBoxModel",
      "state": {
       "children": [
        "IPY_MODEL_28622feea0374065ac40c9788faa9101",
        "IPY_MODEL_a45e0f9cea78462bb1eabac4d658fa9d"
       ],
       "layout": "IPY_MODEL_321e1df0b746490aae90ff8d16dfa77c"
      }
     },
     "eaa7ce28c47740699709eeceaebc2fbe": {
      "model_module": "@jupyter-widgets/controls",
      "model_module_version": "2.0.0",
      "model_name": "HTMLStyleModel",
      "state": {
       "description_width": "",
       "font_size": null,
       "text_color": null
      }
     },
     "eafe297caf1c4e9ba2154a75129ad256": {
      "model_module": "@jupyter-widgets/controls",
      "model_module_version": "2.0.0",
      "model_name": "VBoxModel",
      "state": {
       "children": [
        "IPY_MODEL_8d6dbc5a41984766a53bd5498f20102b",
        "IPY_MODEL_017038326ca44b5ca8825abcd8d3702f"
       ],
       "layout": "IPY_MODEL_7b8ae9ac39e64fdf8e5502f7f5419575"
      }
     },
     "ec3029a53e8b428593cabb42e8f9a73a": {
      "model_module": "@jupyter-widgets/controls",
      "model_module_version": "2.0.0",
      "model_name": "DescriptionStyleModel",
      "state": {
       "description_width": ""
      }
     },
     "f05259c5dc42407d8191f19c518e9fe8": {
      "model_module": "@jupyter-widgets/base",
      "model_module_version": "2.0.0",
      "model_name": "LayoutModel",
      "state": {}
     },
     "f0e4f52b748344cbb6d849adafd03315": {
      "model_module": "@jupyter-widgets/base",
      "model_module_version": "2.0.0",
      "model_name": "LayoutModel",
      "state": {}
     },
     "f524b86f7a6642d782b0a3b1cacd592b": {
      "model_module": "@jupyter-widgets/base",
      "model_module_version": "2.0.0",
      "model_name": "LayoutModel",
      "state": {}
     },
     "f7adb5aa35b3469fb57b7e1c60ad2c61": {
      "model_module": "@jupyter-widgets/base",
      "model_module_version": "2.0.0",
      "model_name": "LayoutModel",
      "state": {}
     },
     "fb2104ef4e184ec9823b1f3b7d4a799a": {
      "model_module": "@jupyter-widgets/base",
      "model_module_version": "2.0.0",
      "model_name": "LayoutModel",
      "state": {}
     },
     "fbb700436fef42288953c342c1a74549": {
      "model_module": "@jupyter-widgets/base",
      "model_module_version": "2.0.0",
      "model_name": "LayoutModel",
      "state": {}
     },
     "fc9e498477e04b61a2b5e50b34fc33b7": {
      "model_module": "@jupyter-widgets/base",
      "model_module_version": "2.0.0",
      "model_name": "LayoutModel",
      "state": {}
     }
    },
    "version_major": 2,
    "version_minor": 0
   }
  }
 },
 "nbformat": 4,
 "nbformat_minor": 5
}
